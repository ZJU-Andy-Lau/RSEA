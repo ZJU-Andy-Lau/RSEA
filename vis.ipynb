{
 "cells": [
  {
   "cell_type": "code",
   "execution_count": null,
   "id": "118f3869",
   "metadata": {},
   "outputs": [],
   "source": [
    "import torch\n",
    "import numpy as np\n",
    "import cv2\n",
    "from model_new import Encoder\n",
    "from PIL import Image\n",
    "import h5py\n",
    "from torchvision import transforms\n",
    "from matplotlib import pyplot as plt\n",
    "from sklearn.decomposition import PCA"
   ]
  },
  {
   "cell_type": "code",
   "execution_count": null,
   "id": "614625be",
   "metadata": {},
   "outputs": [],
   "source": [
    "cfg_large = {\n",
    "        'input_channels':3,\n",
    "        'patch_feature_channels':512,\n",
    "        'global_feature_channels':256,\n",
    "        'img_size':1024,\n",
    "        'window_size':16,\n",
    "        'embed_dim':192,\n",
    "        'depth':[2,2,18],\n",
    "        'num_heads':[6, 12, 24],\n",
    "        'drop_path_rate':.2,\n",
    "        'pretrain_window_size':[12, 12, 12],\n",
    "        'unfreeze_backbone_modules':['head','norm','layers.2.blocks.14','layers.2.blocks.15','layers.2.blocks.16','layers.2.blocks.17']\n",
    "    }\n",
    "\n",
    "encoder_path = ''\n",
    "encoder = Encoder(cfg_large)\n",
    "encoder = encoder.eval().cuda()\n",
    "transform = transforms.Compose([\n",
    "                transforms.ToTensor(),\n",
    "                transforms.Normalize((0.485, 0.456, 0.406), (0.229, 0.224, 0.225))\n",
    "                ])\n",
    "encoder.load_state_dict({k.replace(\"module.\",\"\"):v for k,v in torch.load(encoder_path).items()},strict=True)"
   ]
  },
  {
   "cell_type": "code",
   "execution_count": null,
   "id": "fae38a5a",
   "metadata": {},
   "outputs": [],
   "source": [
    "dataset_path = ''\n",
    "data_idx = 0\n",
    "\n",
    "def get_color(score,div):\n",
    "    if score < div:\n",
    "        return (255,0,0)\n",
    "    else:\n",
    "        return (0,255,0)\n",
    "\n",
    "with h5py.File(dataset_path,'r') as f:\n",
    "    keys = list(f.keys())\n",
    "    img_raw = f[keys[data_idx]]['image_1'][:][988:2012,988:2012]\n",
    "\n",
    "img = np.stack([img_raw] * 3,axis=-1)\n",
    "img = transform(img)[None]\n",
    "\n",
    "feat,conf = encoder(img)\n",
    "conf = conf.squeeze()\n",
    "\n",
    "img_output = img_raw\n",
    "for line in range(conf.shape[0]):\n",
    "    for samp in range(conf.shape[1]):\n",
    "        cv2.circle(img_output,((samp + .5) * 16.,(line + .5) * 16),1,get_color(conf[line,samp],.5),-1)\n",
    "\n",
    "Image.fromarray(img_output).show()\n",
    "\n"
   ]
  },
  {
   "cell_type": "code",
   "execution_count": null,
   "id": "639a8787",
   "metadata": {},
   "outputs": [
    {
     "data": {
      "text/plain": [
       "2012"
      ]
     },
     "execution_count": 3,
     "metadata": {},
     "output_type": "execute_result"
    }
   ],
   "source": [
    "def vis_feat(feat1,feat2):\n",
    "    H,W,C = feat1.shape\n",
    "    # feat1 = feat1.permute(1,2,0).flatten(0,1).cpu().numpy()\n",
    "    # feat2 = feat2.permute(1,2,0).flatten(0,1).cpu().numpy()\n",
    "    feat1 = feat1.reshape(-1,C)\n",
    "    feat2 = feat2.reshape(-1,C)\n",
    "    feat = np.concat([feat1,feat2],axis=0)\n",
    "    # tsne = TSNE(n_components=3, random_state=42,metric='cosine')\n",
    "    # feat = tsne.fit_transform(feat)\n",
    "    pca = PCA(n_components=3)\n",
    "    \n",
    "    feat = pca.fit_transform(feat)\n",
    "    # feat = feat[:,:3]\n",
    "    feat = (feat - feat.min()) / (feat.max() - feat.min())\n",
    "    feat1 = feat[:H*W]\n",
    "    feat2 = feat[H*W:]\n",
    "    feat1 = feat1.reshape(H,W,3)\n",
    "    feat2 = feat2.reshape(H,W,3)\n",
    "    fig, (ax1, ax2) = plt.subplots(1, 2, figsize=(10, 5))\n",
    "\n",
    "    # 在第一个子图中显示第一张图片\n",
    "    ax1.imshow(feat1)\n",
    "    ax1.axis('off')  # 关闭坐标轴\n",
    "    ax1.set_title('Image 1')\n",
    "\n",
    "    # 在第二个子图中显示第二张图片\n",
    "    ax2.imshow(feat2)\n",
    "    ax2.axis('off')  # 关闭坐标轴\n",
    "    ax2.set_title('Image 2')\n",
    "\n",
    "    # 调整布局\n",
    "    plt.tight_layout()\n",
    "    plt.show()"
   ]
  }
 ],
 "metadata": {
  "kernelspec": {
   "display_name": "geo",
   "language": "python",
   "name": "python3"
  },
  "language_info": {
   "codemirror_mode": {
    "name": "ipython",
    "version": 3
   },
   "file_extension": ".py",
   "mimetype": "text/x-python",
   "name": "python",
   "nbconvert_exporter": "python",
   "pygments_lexer": "ipython3",
   "version": "3.9.21"
  }
 },
 "nbformat": 4,
 "nbformat_minor": 5
}
